{
 "cells": [
  {
   "cell_type": "code",
   "execution_count": 8,
   "metadata": {},
   "outputs": [],
   "source": [
    "from pyspark.sql import SparkSession, functions as f"
   ]
  },
  {
   "cell_type": "code",
   "execution_count": null,
   "metadata": {},
   "outputs": [],
   "source": [
    "spark = SparkSession\\\n",
    "  .builder\\\n",
    "  .appName(\"twitter_transformation\")\\\n",
    "  .getOrCreate()"
   ]
  },
  {
   "cell_type": "code",
   "execution_count": null,
   "metadata": {},
   "outputs": [],
   "source": [
    "df_tweet = spark.read.json('/home/adauto_junior/cursos/alura/airflow-transformacao-dados-spark/datalake/Silver/twitter_datascience/tweet')"
   ]
  },
  {
   "cell_type": "code",
   "execution_count": null,
   "metadata": {},
   "outputs": [],
   "source": [
    "df_tweet.printSchema()"
   ]
  },
  {
   "cell_type": "code",
   "execution_count": null,
   "metadata": {},
   "outputs": [],
   "source": [
    "tweet_conversas = df_tweet.alias('tweet').groupBy(\n",
    "  f.to_date('created_at').alias('created_date')\n",
    ").agg(\n",
    "  f.count_distinct('author_id').alias('n_tweet'),\n",
    "  f.sum('like_count').alias('n_like'),\n",
    "  f.sum('quote_count').alias('n_quote'),\n",
    "  f.sum('reply_count').alias('n_reply'),\n",
    "  f.sum('retweet_count').alias('n_retweet')\n",
    ").withColumn(\n",
    "  'weekday',\n",
    "  f.date_format('created_date', 'E')\n",
    ").orderBy('created_date').show()"
   ]
  }
 ],
 "metadata": {
  "kernelspec": {
   "display_name": "venv",
   "language": "python",
   "name": "python3"
  },
  "language_info": {
   "codemirror_mode": {
    "name": "ipython",
    "version": 3
   },
   "file_extension": ".py",
   "mimetype": "text/x-python",
   "name": "python",
   "nbconvert_exporter": "python",
   "pygments_lexer": "ipython3",
   "version": "3.10.6 (main, Nov 14 2022, 16:10:14) [GCC 11.3.0]"
  },
  "orig_nbformat": 4,
  "vscode": {
   "interpreter": {
    "hash": "18579b2fffe0fd81ad693ae8f32f1ed2bcb013c1b51fcfd51b7e059f3f4526a6"
   }
  }
 },
 "nbformat": 4,
 "nbformat_minor": 2
}
