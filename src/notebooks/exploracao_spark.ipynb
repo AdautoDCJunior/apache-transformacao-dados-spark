{
 "cells": [
  {
   "cell_type": "code",
   "execution_count": 9,
   "metadata": {},
   "outputs": [],
   "source": [
    "from pyspark.sql import SparkSession, functions as f"
   ]
  },
  {
   "cell_type": "code",
   "execution_count": null,
   "metadata": {},
   "outputs": [],
   "source": [
    "spark = SparkSession\\\n",
    "    .builder\\\n",
    "    .appName(\"twitter_transformation\")\\\n",
    "    .getOrCreate()"
   ]
  },
  {
   "cell_type": "code",
   "execution_count": null,
   "metadata": {},
   "outputs": [],
   "source": [
    "df = spark.read.json('../../datalake/twitter_datascience')"
   ]
  },
  {
   "cell_type": "code",
   "execution_count": 19,
   "metadata": {},
   "outputs": [],
   "source": [
    "tweet_df = df.select(\n",
    "  f.explode('data').alias('tweets')\n",
    ").select(\n",
    "  'tweets.author_id',\n",
    "  'tweets.conversation_id',\n",
    "  'tweets.created_at',\n",
    "  'tweets.id',\n",
    "  'tweets.public_metrics.*',\n",
    "  'tweets.text'\n",
    ")\n",
    "\n",
    "tweet_df.printSchema()\n",
    "tweet_df.show()"
   ]
  },
  {
   "cell_type": "code",
   "execution_count": null,
   "metadata": {},
   "outputs": [],
   "source": [
    "user_df = df.select(\n",
    "  'includes.users'\n",
    ").select(\n",
    "  f.explode('users').alias('users')\n",
    ").select(\n",
    "  'users.*'\n",
    ").distinct()\n",
    "\n",
    "user_df.printSchema()\n",
    "user_df.show()\n",
    "user_df.count()"
   ]
  },
  {
   "cell_type": "code",
   "execution_count": 40,
   "metadata": {},
   "outputs": [],
   "source": [
    "tweet_df.coalesce(1).write.json(\n",
    "  path='./output/tweet',\n",
    "  mode='overwrite'\n",
    ")\n",
    "\n",
    "user_df.coalesce(1).write.json(\n",
    "  path='./output/user',\n",
    "  mode='overwrite'\n",
    ")"
   ]
  }
 ],
 "metadata": {
  "kernelspec": {
   "display_name": "venv",
   "language": "python",
   "name": "python3"
  },
  "language_info": {
   "codemirror_mode": {
    "name": "ipython",
    "version": 3
   },
   "file_extension": ".py",
   "mimetype": "text/x-python",
   "name": "python",
   "nbconvert_exporter": "python",
   "pygments_lexer": "ipython3",
   "version": "3.10.6"
  },
  "orig_nbformat": 4,
  "vscode": {
   "interpreter": {
    "hash": "18579b2fffe0fd81ad693ae8f32f1ed2bcb013c1b51fcfd51b7e059f3f4526a6"
   }
  }
 },
 "nbformat": 4,
 "nbformat_minor": 2
}
